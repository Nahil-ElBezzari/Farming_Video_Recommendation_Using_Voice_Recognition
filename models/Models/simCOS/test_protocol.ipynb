{
 "cells": [
  {
   "cell_type": "code",
   "execution_count": 1,
   "metadata": {},
   "outputs": [
    {
     "name": "stderr",
     "output_type": "stream",
     "text": [
      "C:\\Users\\CYTech Student\\AppData\\Roaming\\Python\\Python38\\site-packages\\sentence_transformers\\cross_encoder\\CrossEncoder.py:13: TqdmWarning: IProgress not found. Please update jupyter and ipywidgets. See https://ipywidgets.readthedocs.io/en/stable/user_install.html\n",
      "  from tqdm.autonotebook import tqdm, trange\n",
      "C:\\Users\\CYTech Student\\AppData\\Roaming\\Python\\Python38\\site-packages\\huggingface_hub\\file_download.py:140: UserWarning: `huggingface_hub` cache-system uses symlinks by default to efficiently store duplicated files but your machine does not support them in C:\\Users\\CYTech Student\\.cache\\huggingface\\hub\\models--sentence-transformers--all-MiniLM-L6-v2. Caching files will still work but in a degraded version that might require more space on your disk. This warning can be disabled by setting the `HF_HUB_DISABLE_SYMLINKS_WARNING` environment variable. For more details, see https://huggingface.co/docs/huggingface_hub/how-to-cache#limitations.\n",
      "To support symlinks on Windows, you either need to activate Developer Mode or to run Python as an administrator. In order to activate developer mode, see this article: https://docs.microsoft.com/en-us/windows/apps/get-started/enable-your-device-for-development\n",
      "  warnings.warn(message)\n"
     ]
    }
   ],
   "source": [
    "import csv, time, torch, os\n",
    "from sentence_transformers import SentenceTransformer\n",
    "model = SentenceTransformer(\"all-MiniLM-L6-v2\")"
   ]
  },
  {
   "cell_type": "code",
   "execution_count": 14,
   "metadata": {},
   "outputs": [],
   "source": [
    "#__________DATA EXTRACTION__________\n",
    "questions_file = \"../../Data/testSet.csv\"\n",
    "video_file = \"../../Data/videos-question-form.csv\"\n",
    "def extract_questions(file_path):\n",
    "    questions_dict = {}\n",
    "    \n",
    "    with open(file_path, mode='r', encoding='utf-8') as file:\n",
    "        reader = csv.reader(file,delimiter=\";\")\n",
    "        for row in reader:\n",
    "            if len(row) == 2: \n",
    "                question, number = row[0].strip(), int(row[1].strip())\n",
    "                questions_dict[question] = number\n",
    "    \n",
    "    return questions_dict\n",
    "def extract_videos(file_path):\n",
    "    videos_dict = {}\n",
    "\n",
    "    with open(file_path, mode='r', encoding='utf-8') as file:\n",
    "        reader = csv.reader(file,delimiter=\";\")\n",
    "        for row in reader:\n",
    "            title, tags, link, number = row[0].strip(), row[1].strip(), row[2].strip(), int(row[3].strip())\n",
    "            videos_dict[title] = number\n",
    "    \n",
    "    return videos_dict\n",
    "\n",
    "questions = extract_questions(questions_file)\n",
    "videos = extract_videos(video_file)"
   ]
  },
  {
   "cell_type": "code",
   "execution_count": 15,
   "metadata": {},
   "outputs": [
    {
     "name": "stdout",
     "output_type": "stream",
     "text": [
      "\n",
      "Temps de vectorisation des titres des vidéos: 0.38862749999998414\n",
      "Temps moyen: 0.00826867021276562\n"
     ]
    }
   ],
   "source": [
    "#__________SIMILARITY__________\n",
    "start_time = time.perf_counter()\n",
    "videos_embedding = model.encode(list(videos.keys()), convert_to_tensor=True)\n",
    "end_time = time.perf_counter()\n",
    "run_time = end_time - start_time\n",
    "print(\"\\nTemps de vectorisation des titres des vidéos: \"+str(run_time)+\"\\nTemps moyen: \"+str(run_time/len(list(videos.keys()))))"
   ]
  },
  {
   "cell_type": "code",
   "execution_count": 16,
   "metadata": {},
   "outputs": [
    {
     "name": "stdout",
     "output_type": "stream",
     "text": [
      "\n",
      "Temps de vectorisation des questions et de calcul de correspondance: 10.396903800000018\n",
      "Temps moyen: 0.0148104042735043\n"
     ]
    }
   ],
   "source": [
    "#__________MAPPING__________\n",
    "mapping = {}\n",
    "start_time = time.perf_counter()\n",
    "for query in list(questions.keys()):\n",
    "    query_embedding = model.encode(query, convert_to_tensor=True)\n",
    "    similarity_scores = model.similarity(query_embedding, videos_embedding)[0]\n",
    "    # Récupération des 5 vidéos les plus pertinentes\n",
    "    scores, indices = torch.topk(similarity_scores, k=5)\n",
    "    best_videos = [list(videos.keys())[idx] for idx in indices]\n",
    "    mapping[query]=best_videos\n",
    "end_time = time.perf_counter()\n",
    "run_time = end_time - start_time\n",
    "print(\"\\nTemps de vectorisation des questions et de calcul de correspondance: \"+str(run_time)+\"\\nTemps moyen: \"+str(run_time/len(list(questions.keys()))))"
   ]
  },
  {
   "cell_type": "code",
   "execution_count": 17,
   "metadata": {},
   "outputs": [
    {
     "name": "stdout",
     "output_type": "stream",
     "text": [
      "\n",
      "Mean Reciprocal Rank (MRR): 0.7884\n"
     ]
    }
   ],
   "source": [
    "#__________CALCUL DU MRR__________\n",
    "total = 0.0\n",
    "\n",
    "for question, recommended_videos in mapping.items():\n",
    "    correct_video = next((idx + 1 for idx, video in enumerate(recommended_videos) if videos[video] == questions[question]), 0)\n",
    "    total += 1 / correct_video if correct_video else 0 \n",
    "\n",
    "score = total / len(questions)\n",
    "print(\"\\nMean Reciprocal Rank (MRR): {:.4f}\".format(score))"
   ]
  },
  {
   "cell_type": "code",
   "execution_count": null,
   "metadata": {},
   "outputs": [],
   "source": []
  }
 ],
 "metadata": {
  "kernelspec": {
   "display_name": "Python 3",
   "language": "python",
   "name": "python3"
  },
  "language_info": {
   "codemirror_mode": {
    "name": "ipython",
    "version": 3
   },
   "file_extension": ".py",
   "mimetype": "text/x-python",
   "name": "python",
   "nbconvert_exporter": "python",
   "pygments_lexer": "ipython3",
   "version": "3.8.3"
  }
 },
 "nbformat": 4,
 "nbformat_minor": 2
}
